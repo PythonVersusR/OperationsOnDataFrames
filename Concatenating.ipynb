{
 "cells": [
  {
   "cell_type": "markdown",
   "id": "d317c804",
   "metadata": {},
   "source": [
    "<img src=\"https://i.imgur.com/6U6q5jQ.png\"/>\n",
    "\n",
    "# Concatenating Data Frames in Python\n",
    "\n",
    "Appending is an operation at the data frame level. It is an easy operation when all the data frames have the **same** column names, and in the same position (vertical appending).\n",
    "\n",
    "Let me bring some data frames:"
   ]
  },
  {
   "cell_type": "code",
   "execution_count": 5,
   "id": "2be3927e",
   "metadata": {},
   "outputs": [
    {
     "data": {
      "text/plain": [
       "['FilesToConcatenate/wars1P.csv',\n",
       " 'FilesToConcatenate/wars2P.csv',\n",
       " 'FilesToConcatenate/wars3P.csv',\n",
       " 'FilesToConcatenate/wars4P.csv']"
      ]
     },
     "execution_count": 5,
     "metadata": {},
     "output_type": "execute_result"
    }
   ],
   "source": [
    "import pandas as pd\n",
    "import glob\n",
    "import os\n",
    "\n",
    "all_names = glob.glob(os.path.join('FilesToConcatenate' , \"*P.csv\"))\n",
    "all_names"
   ]
  },
  {
   "cell_type": "markdown",
   "id": "9b459bb1",
   "metadata": {},
   "source": [
    "Now, I will create a list of data frames:"
   ]
  },
  {
   "cell_type": "code",
   "execution_count": 7,
   "id": "f05638f9",
   "metadata": {},
   "outputs": [],
   "source": [
    "dfs=[]\n",
    "for name in all_names:\n",
    "    dfs.append(pd.read_csv(name))"
   ]
  },
  {
   "cell_type": "markdown",
   "id": "4647bd00",
   "metadata": {},
   "source": [
    "Let me check if the column names are the same:"
   ]
  },
  {
   "cell_type": "code",
   "execution_count": 8,
   "id": "8cbaa5f1",
   "metadata": {},
   "outputs": [
    {
     "name": "stdout",
     "output_type": "stream",
     "text": [
      "Index(['War', 'Deathrange', 'Date', 'Combatants', 'Location', 'Notes'], dtype='object')\n",
      "Index(['War', 'Deathrange', 'Date', 'Combatants', 'Location', 'Notes'], dtype='object')\n",
      "Index(['War', 'Deathrange', 'Date', 'Combatants', 'Location', 'Notes'], dtype='object')\n",
      "Index(['Deathrange', 'War', 'Date', 'url', 'Location', 'Notes'], dtype='object')\n"
     ]
    }
   ],
   "source": [
    "for df in dfs:\n",
    "    print(df.columns)"
   ]
  },
  {
   "cell_type": "markdown",
   "id": "af22b7e8",
   "metadata": {},
   "source": [
    "In this situation, I need to work on the column names of the last one:"
   ]
  },
  {
   "cell_type": "code",
   "execution_count": 9,
   "id": "74c0037c",
   "metadata": {},
   "outputs": [],
   "source": [
    "# keep in the rigth order\n",
    "dfs[3]['Combatants']=None\n",
    "dfs[3]=dfs[3][['War', 'Deathrange', 'Date', 'Combatants', 'Location', 'Notes']]"
   ]
  },
  {
   "cell_type": "markdown",
   "id": "e3ecff47",
   "metadata": {},
   "source": [
    "Let's verify:"
   ]
  },
  {
   "cell_type": "code",
   "execution_count": 10,
   "id": "2e8cb5d2",
   "metadata": {},
   "outputs": [
    {
     "name": "stdout",
     "output_type": "stream",
     "text": [
      "Index(['War', 'Deathrange', 'Date', 'Combatants', 'Location', 'Notes'], dtype='object')\n",
      "Index(['War', 'Deathrange', 'Date', 'Combatants', 'Location', 'Notes'], dtype='object')\n",
      "Index(['War', 'Deathrange', 'Date', 'Combatants', 'Location', 'Notes'], dtype='object')\n",
      "Index(['War', 'Deathrange', 'Date', 'Combatants', 'Location', 'Notes'], dtype='object')\n"
     ]
    }
   ],
   "source": [
    "# do this again:\n",
    "for df in dfs:\n",
    "    print(df.columns)"
   ]
  },
  {
   "cell_type": "markdown",
   "id": "390f0d84",
   "metadata": {},
   "source": [
    "Now we can concatenate them, and count the amount of rows:"
   ]
  },
  {
   "cell_type": "code",
   "execution_count": 13,
   "id": "b2897642",
   "metadata": {},
   "outputs": [
    {
     "data": {
      "text/plain": [
       "(361, 6)"
      ]
     },
     "execution_count": 13,
     "metadata": {},
     "output_type": "execute_result"
    }
   ],
   "source": [
    "allWars=pd.concat(objs=dfs, # DFs as a list\n",
    "                  axis=0, # one DF on top of the other\n",
    "                  ignore_index=True, #very important\n",
    "                  copy=False)\n",
    "allWars.shape"
   ]
  },
  {
   "cell_type": "code",
   "execution_count": 14,
   "id": "b1df523f",
   "metadata": {},
   "outputs": [
    {
     "data": {
      "text/html": [
       "<div>\n",
       "<style scoped>\n",
       "    .dataframe tbody tr th:only-of-type {\n",
       "        vertical-align: middle;\n",
       "    }\n",
       "\n",
       "    .dataframe tbody tr th {\n",
       "        vertical-align: top;\n",
       "    }\n",
       "\n",
       "    .dataframe thead th {\n",
       "        text-align: right;\n",
       "    }\n",
       "</style>\n",
       "<table border=\"1\" class=\"dataframe\">\n",
       "  <thead>\n",
       "    <tr style=\"text-align: right;\">\n",
       "      <th></th>\n",
       "      <th>War</th>\n",
       "      <th>Deathrange</th>\n",
       "      <th>Date</th>\n",
       "      <th>Combatants</th>\n",
       "      <th>Location</th>\n",
       "      <th>Notes</th>\n",
       "    </tr>\n",
       "  </thead>\n",
       "  <tbody>\n",
       "    <tr>\n",
       "      <th>0</th>\n",
       "      <td>Conquests of Cyrus the Great</td>\n",
       "      <td>100,000+</td>\n",
       "      <td>549 BC–530 BC</td>\n",
       "      <td>Persian Empire vs. various states</td>\n",
       "      <td>Middle East</td>\n",
       "      <td>Number given is the sum of all deaths in battl...</td>\n",
       "    </tr>\n",
       "    <tr>\n",
       "      <th>1</th>\n",
       "      <td>Greco–Persian Wars</td>\n",
       "      <td>300,000+</td>\n",
       "      <td>499 BC–449 BC</td>\n",
       "      <td>Greek City-States vs. Persian Empire</td>\n",
       "      <td>Greece</td>\n",
       "      <td>NaN</td>\n",
       "    </tr>\n",
       "    <tr>\n",
       "      <th>2</th>\n",
       "      <td>Samnite Wars</td>\n",
       "      <td>33,500+</td>\n",
       "      <td>343 BC–290 BC</td>\n",
       "      <td>Roman Republic vs. Samnites</td>\n",
       "      <td>Italy</td>\n",
       "      <td>Number given is the sum of all deaths in battl...</td>\n",
       "    </tr>\n",
       "    <tr>\n",
       "      <th>3</th>\n",
       "      <td>Wars of Alexander the Great</td>\n",
       "      <td>142,000+</td>\n",
       "      <td>336 BC–323 BC</td>\n",
       "      <td>Macedonian Empire and other Greek City-States ...</td>\n",
       "      <td>Middle East / North Africa / Central Asia / India</td>\n",
       "      <td>Number given is the sum of all deaths in battl...</td>\n",
       "    </tr>\n",
       "    <tr>\n",
       "      <th>4</th>\n",
       "      <td>Punic Wars</td>\n",
       "      <td>1,250,000–1,850,000</td>\n",
       "      <td>264 BC–146 BC</td>\n",
       "      <td>Roman Republic vs. Carthaginian Empire</td>\n",
       "      <td>Western Europe / North Africa</td>\n",
       "      <td>NaN</td>\n",
       "    </tr>\n",
       "    <tr>\n",
       "      <th>5</th>\n",
       "      <td>First Punic War</td>\n",
       "      <td>400,000+</td>\n",
       "      <td>264 BC–241 BC</td>\n",
       "      <td>Roman Republic vs. Carthaginian Empire</td>\n",
       "      <td>Southern Europe / North Africa</td>\n",
       "      <td>– Part of the Punic Wars</td>\n",
       "    </tr>\n",
       "    <tr>\n",
       "      <th>6</th>\n",
       "      <td>Second Punic War</td>\n",
       "      <td>770,000+</td>\n",
       "      <td>218 BC–201 BC</td>\n",
       "      <td>Roman Republic vs. Carthaginian Empire</td>\n",
       "      <td>Western Europe / North Africa</td>\n",
       "      <td>[1] – Part of the Punic Wars</td>\n",
       "    </tr>\n",
       "    <tr>\n",
       "      <th>7</th>\n",
       "      <td>Third Punic War</td>\n",
       "      <td>150,000–250,000</td>\n",
       "      <td>149 BC–146 BC</td>\n",
       "      <td>Roman Republic vs. Carthaginian Empire</td>\n",
       "      <td>Tunisia</td>\n",
       "      <td>– Part of the Punic Wars</td>\n",
       "    </tr>\n",
       "    <tr>\n",
       "      <th>8</th>\n",
       "      <td>Kalinga War</td>\n",
       "      <td>150,000–200,000</td>\n",
       "      <td>262 BC–261 BC</td>\n",
       "      <td>Maurya Empire vs. State of Kalinga</td>\n",
       "      <td>India</td>\n",
       "      <td>NaN</td>\n",
       "    </tr>\n",
       "    <tr>\n",
       "      <th>9</th>\n",
       "      <td>Qin's Wars of Unification</td>\n",
       "      <td>700,000+[citation needed]</td>\n",
       "      <td>230 BC–221 BC</td>\n",
       "      <td>Qin state vs. Han, Zhao, Yan, Wei, Chu, Qi States</td>\n",
       "      <td>China</td>\n",
       "      <td>– Part of Warring States Period</td>\n",
       "    </tr>\n",
       "    <tr>\n",
       "      <th>10</th>\n",
       "      <td>Cimbrian War</td>\n",
       "      <td>410,000–650,000</td>\n",
       "      <td>113 BC–101 BC</td>\n",
       "      <td>Roman Republic vs. Cimbri and Teutones</td>\n",
       "      <td>Western Europe</td>\n",
       "      <td>– Part of the Germanic Wars</td>\n",
       "    </tr>\n",
       "    <tr>\n",
       "      <th>11</th>\n",
       "      <td>Gallic Wars</td>\n",
       "      <td>1,000,000+</td>\n",
       "      <td>58 BC–50 BC</td>\n",
       "      <td>Roman Republic vs. Gallic tribes</td>\n",
       "      <td>France</td>\n",
       "      <td>NaN</td>\n",
       "    </tr>\n",
       "    <tr>\n",
       "      <th>12</th>\n",
       "      <td>Iceni Revolt</td>\n",
       "      <td>150,000+[2]</td>\n",
       "      <td>60–61</td>\n",
       "      <td>Roman Empire vs. Celtic tribes</td>\n",
       "      <td>England</td>\n",
       "      <td>Year is uncertain – Part of the Roman Conquest...</td>\n",
       "    </tr>\n",
       "    <tr>\n",
       "      <th>13</th>\n",
       "      <td>Jewish–Roman Wars</td>\n",
       "      <td>1,270,000–2,000,000[3]</td>\n",
       "      <td>66–136</td>\n",
       "      <td>Roman Empire vs. Jews</td>\n",
       "      <td>Middle East/North Africa</td>\n",
       "      <td>Deaths caused by Roman attempt to permanently ...</td>\n",
       "    </tr>\n",
       "    <tr>\n",
       "      <th>14</th>\n",
       "      <td>First Jewish–Roman War</td>\n",
       "      <td>250,000–1,100,000[3]</td>\n",
       "      <td>66–73</td>\n",
       "      <td>Roman Empire vs. Jews</td>\n",
       "      <td>Middle East</td>\n",
       "      <td>– Part of Jewish–Roman Wars</td>\n",
       "    </tr>\n",
       "    <tr>\n",
       "      <th>15</th>\n",
       "      <td>Kitos War</td>\n",
       "      <td>440,000+</td>\n",
       "      <td>115–117</td>\n",
       "      <td>Roman Empire vs. Jews</td>\n",
       "      <td>Southern Europe / North Africa</td>\n",
       "      <td>– Also known as the Second Jewish–Roman War – ...</td>\n",
       "    </tr>\n",
       "    <tr>\n",
       "      <th>16</th>\n",
       "      <td>Bar Kokhba Revolt</td>\n",
       "      <td>580000</td>\n",
       "      <td>132–136</td>\n",
       "      <td>Roman Empire vs. Jews</td>\n",
       "      <td>Middle East</td>\n",
       "      <td>– Also known as the Third Jewish–Roman War – P...</td>\n",
       "    </tr>\n",
       "    <tr>\n",
       "      <th>17</th>\n",
       "      <td>Gothic War (269)</td>\n",
       "      <td>320,000+</td>\n",
       "      <td>269</td>\n",
       "      <td>Roman Empire vs. Goths</td>\n",
       "      <td>Europe</td>\n",
       "      <td>Claudius II defeated the Goths, of whom 320,00...</td>\n",
       "    </tr>\n",
       "    <tr>\n",
       "      <th>18</th>\n",
       "      <td>Probus's German War</td>\n",
       "      <td>400,000+</td>\n",
       "      <td>277</td>\n",
       "      <td>Roman Empire vs. Germans</td>\n",
       "      <td>Europe</td>\n",
       "      <td>Emperor Probus informed the Senate that he had...</td>\n",
       "    </tr>\n",
       "    <tr>\n",
       "      <th>19</th>\n",
       "      <td>Gothic War (376–382)</td>\n",
       "      <td>40,000+</td>\n",
       "      <td>376–382</td>\n",
       "      <td>Roman Empire vs. Goths</td>\n",
       "      <td>Eastern Europe</td>\n",
       "      <td>– Part of the Germanic Wars</td>\n",
       "    </tr>\n",
       "  </tbody>\n",
       "</table>\n",
       "</div>"
      ],
      "text/plain": [
       "                             War                 Deathrange           Date  \\\n",
       "0   Conquests of Cyrus the Great                   100,000+  549 BC–530 BC   \n",
       "1             Greco–Persian Wars                   300,000+  499 BC–449 BC   \n",
       "2                   Samnite Wars                    33,500+  343 BC–290 BC   \n",
       "3    Wars of Alexander the Great                   142,000+  336 BC–323 BC   \n",
       "4                     Punic Wars        1,250,000–1,850,000  264 BC–146 BC   \n",
       "5                First Punic War                   400,000+  264 BC–241 BC   \n",
       "6               Second Punic War                   770,000+  218 BC–201 BC   \n",
       "7                Third Punic War            150,000–250,000  149 BC–146 BC   \n",
       "8                    Kalinga War            150,000–200,000  262 BC–261 BC   \n",
       "9      Qin's Wars of Unification  700,000+[citation needed]  230 BC–221 BC   \n",
       "10                  Cimbrian War            410,000–650,000  113 BC–101 BC   \n",
       "11                   Gallic Wars                 1,000,000+    58 BC–50 BC   \n",
       "12                  Iceni Revolt                150,000+[2]          60–61   \n",
       "13             Jewish–Roman Wars     1,270,000–2,000,000[3]         66–136   \n",
       "14        First Jewish–Roman War       250,000–1,100,000[3]          66–73   \n",
       "15                     Kitos War                   440,000+        115–117   \n",
       "16             Bar Kokhba Revolt                     580000        132–136   \n",
       "17              Gothic War (269)                   320,000+            269   \n",
       "18           Probus's German War                   400,000+            277   \n",
       "19          Gothic War (376–382)                    40,000+        376–382   \n",
       "\n",
       "                                           Combatants  \\\n",
       "0                   Persian Empire vs. various states   \n",
       "1                Greek City-States vs. Persian Empire   \n",
       "2                         Roman Republic vs. Samnites   \n",
       "3   Macedonian Empire and other Greek City-States ...   \n",
       "4              Roman Republic vs. Carthaginian Empire   \n",
       "5              Roman Republic vs. Carthaginian Empire   \n",
       "6              Roman Republic vs. Carthaginian Empire   \n",
       "7              Roman Republic vs. Carthaginian Empire   \n",
       "8                  Maurya Empire vs. State of Kalinga   \n",
       "9   Qin state vs. Han, Zhao, Yan, Wei, Chu, Qi States   \n",
       "10             Roman Republic vs. Cimbri and Teutones   \n",
       "11                   Roman Republic vs. Gallic tribes   \n",
       "12                     Roman Empire vs. Celtic tribes   \n",
       "13                              Roman Empire vs. Jews   \n",
       "14                              Roman Empire vs. Jews   \n",
       "15                              Roman Empire vs. Jews   \n",
       "16                              Roman Empire vs. Jews   \n",
       "17                             Roman Empire vs. Goths   \n",
       "18                           Roman Empire vs. Germans   \n",
       "19                             Roman Empire vs. Goths   \n",
       "\n",
       "                                             Location  \\\n",
       "0                                         Middle East   \n",
       "1                                              Greece   \n",
       "2                                               Italy   \n",
       "3   Middle East / North Africa / Central Asia / India   \n",
       "4                       Western Europe / North Africa   \n",
       "5                      Southern Europe / North Africa   \n",
       "6                       Western Europe / North Africa   \n",
       "7                                             Tunisia   \n",
       "8                                               India   \n",
       "9                                               China   \n",
       "10                                     Western Europe   \n",
       "11                                             France   \n",
       "12                                            England   \n",
       "13                           Middle East/North Africa   \n",
       "14                                        Middle East   \n",
       "15                     Southern Europe / North Africa   \n",
       "16                                        Middle East   \n",
       "17                                             Europe   \n",
       "18                                             Europe   \n",
       "19                                     Eastern Europe   \n",
       "\n",
       "                                                Notes  \n",
       "0   Number given is the sum of all deaths in battl...  \n",
       "1                                                 NaN  \n",
       "2   Number given is the sum of all deaths in battl...  \n",
       "3   Number given is the sum of all deaths in battl...  \n",
       "4                                                 NaN  \n",
       "5                            – Part of the Punic Wars  \n",
       "6                        [1] – Part of the Punic Wars  \n",
       "7                            – Part of the Punic Wars  \n",
       "8                                                 NaN  \n",
       "9                     – Part of Warring States Period  \n",
       "10                        – Part of the Germanic Wars  \n",
       "11                                                NaN  \n",
       "12  Year is uncertain – Part of the Roman Conquest...  \n",
       "13  Deaths caused by Roman attempt to permanently ...  \n",
       "14                        – Part of Jewish–Roman Wars  \n",
       "15  – Also known as the Second Jewish–Roman War – ...  \n",
       "16  – Also known as the Third Jewish–Roman War – P...  \n",
       "17  Claudius II defeated the Goths, of whom 320,00...  \n",
       "18  Emperor Probus informed the Senate that he had...  \n",
       "19                        – Part of the Germanic Wars  "
      ]
     },
     "execution_count": 14,
     "metadata": {},
     "output_type": "execute_result"
    }
   ],
   "source": [
    "# this is it:\n",
    "\n",
    "allWars.head(20)"
   ]
  },
  {
   "cell_type": "markdown",
   "id": "80e70041",
   "metadata": {},
   "source": [
    "You can save this now. This still needs cleaning and formatting."
   ]
  },
  {
   "cell_type": "code",
   "execution_count": null,
   "id": "028c2e92",
   "metadata": {},
   "outputs": [],
   "source": [
    "# pathAndName=os.path.join('FilesToAppend','AllWars_messy.csv')\n",
    "# allWars.to_csv(pathAndName,index=False)"
   ]
  },
  {
   "cell_type": "code",
   "execution_count": null,
   "id": "9e038365",
   "metadata": {},
   "outputs": [],
   "source": []
  }
 ],
 "metadata": {
  "kernelspec": {
   "display_name": "Python 3 (ipykernel)",
   "language": "python",
   "name": "python3"
  },
  "language_info": {
   "codemirror_mode": {
    "name": "ipython",
    "version": 3
   },
   "file_extension": ".py",
   "mimetype": "text/x-python",
   "name": "python",
   "nbconvert_exporter": "python",
   "pygments_lexer": "ipython3",
   "version": "3.12.0"
  }
 },
 "nbformat": 4,
 "nbformat_minor": 5
}
