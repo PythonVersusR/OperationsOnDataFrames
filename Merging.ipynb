{
 "cells": [
  {
   "cell_type": "markdown",
   "id": "a8ae6a60",
   "metadata": {},
   "source": [
    "<img src=\"https://i.imgur.com/6U6q5jQ.png\"/>\n",
    "\n",
    "# Merging Data Frames in Python\n",
    "\n",
    "The Merging stage is an operation at the data frame level (not a cell operation). \n",
    "\n",
    "The merging process combines **TWO** data frames, if and only if, they each have a common column whose cell values represent the same, and are written exactly the same. Unmatched values will not be part of the output. If you have messy data, you need to clean at least those **key** columns for the match to work.\n",
    "\n",
    "Let's see some data:"
   ]
  },
  {
   "cell_type": "code",
   "execution_count": 1,
   "id": "11328172",
   "metadata": {},
   "outputs": [
    {
     "data": {
      "text/html": [
       "<div>\n",
       "<style scoped>\n",
       "    .dataframe tbody tr th:only-of-type {\n",
       "        vertical-align: middle;\n",
       "    }\n",
       "\n",
       "    .dataframe tbody tr th {\n",
       "        vertical-align: top;\n",
       "    }\n",
       "\n",
       "    .dataframe thead th {\n",
       "        text-align: right;\n",
       "    }\n",
       "</style>\n",
       "<table border=\"1\" class=\"dataframe\">\n",
       "  <thead>\n",
       "    <tr style=\"text-align: right;\">\n",
       "      <th></th>\n",
       "      <th>Country</th>\n",
       "      <th>FitW</th>\n",
       "      <th>FitW_score</th>\n",
       "      <th>IoEF</th>\n",
       "      <th>IoEF_score</th>\n",
       "      <th>PFI</th>\n",
       "      <th>PFI_score</th>\n",
       "      <th>DI</th>\n",
       "      <th>DI_score</th>\n",
       "      <th>FitW_or</th>\n",
       "      <th>IoEF_or</th>\n",
       "      <th>PFI_or</th>\n",
       "      <th>DI_or</th>\n",
       "    </tr>\n",
       "  </thead>\n",
       "  <tbody>\n",
       "    <tr>\n",
       "      <th>0</th>\n",
       "      <td>NORWAY</td>\n",
       "      <td>5</td>\n",
       "      <td>100</td>\n",
       "      <td>4</td>\n",
       "      <td>76.9</td>\n",
       "      <td>5</td>\n",
       "      <td>95.18</td>\n",
       "      <td>5</td>\n",
       "      <td>9.81</td>\n",
       "      <td>5_veryGood</td>\n",
       "      <td>4_good</td>\n",
       "      <td>5_veryGood</td>\n",
       "      <td>5_veryGood</td>\n",
       "    </tr>\n",
       "    <tr>\n",
       "      <th>1</th>\n",
       "      <td>IRELAND</td>\n",
       "      <td>5</td>\n",
       "      <td>97</td>\n",
       "      <td>5</td>\n",
       "      <td>82.0</td>\n",
       "      <td>5</td>\n",
       "      <td>89.91</td>\n",
       "      <td>5</td>\n",
       "      <td>9.05</td>\n",
       "      <td>5_veryGood</td>\n",
       "      <td>5_veryGood</td>\n",
       "      <td>5_veryGood</td>\n",
       "      <td>5_veryGood</td>\n",
       "    </tr>\n",
       "    <tr>\n",
       "      <th>2</th>\n",
       "      <td>SWEDEN</td>\n",
       "      <td>5</td>\n",
       "      <td>100</td>\n",
       "      <td>4</td>\n",
       "      <td>77.5</td>\n",
       "      <td>5</td>\n",
       "      <td>88.15</td>\n",
       "      <td>5</td>\n",
       "      <td>9.26</td>\n",
       "      <td>5_veryGood</td>\n",
       "      <td>4_good</td>\n",
       "      <td>5_veryGood</td>\n",
       "      <td>5_veryGood</td>\n",
       "    </tr>\n",
       "    <tr>\n",
       "      <th>3</th>\n",
       "      <td>FINLAND</td>\n",
       "      <td>5</td>\n",
       "      <td>100</td>\n",
       "      <td>4</td>\n",
       "      <td>77.1</td>\n",
       "      <td>5</td>\n",
       "      <td>87.94</td>\n",
       "      <td>5</td>\n",
       "      <td>9.20</td>\n",
       "      <td>5_veryGood</td>\n",
       "      <td>4_good</td>\n",
       "      <td>5_veryGood</td>\n",
       "      <td>5_veryGood</td>\n",
       "    </tr>\n",
       "    <tr>\n",
       "      <th>4</th>\n",
       "      <td>DENMARK</td>\n",
       "      <td>5</td>\n",
       "      <td>97</td>\n",
       "      <td>4</td>\n",
       "      <td>77.6</td>\n",
       "      <td>5</td>\n",
       "      <td>89.48</td>\n",
       "      <td>5</td>\n",
       "      <td>9.15</td>\n",
       "      <td>5_veryGood</td>\n",
       "      <td>4_good</td>\n",
       "      <td>5_veryGood</td>\n",
       "      <td>5_veryGood</td>\n",
       "    </tr>\n",
       "    <tr>\n",
       "      <th>...</th>\n",
       "      <td>...</td>\n",
       "      <td>...</td>\n",
       "      <td>...</td>\n",
       "      <td>...</td>\n",
       "      <td>...</td>\n",
       "      <td>...</td>\n",
       "      <td>...</td>\n",
       "      <td>...</td>\n",
       "      <td>...</td>\n",
       "      <td>...</td>\n",
       "      <td>...</td>\n",
       "      <td>...</td>\n",
       "      <td>...</td>\n",
       "    </tr>\n",
       "    <tr>\n",
       "      <th>152</th>\n",
       "      <td>VENEZUELA</td>\n",
       "      <td>1</td>\n",
       "      <td>15</td>\n",
       "      <td>1</td>\n",
       "      <td>25.8</td>\n",
       "      <td>1</td>\n",
       "      <td>36.99</td>\n",
       "      <td>1</td>\n",
       "      <td>2.76</td>\n",
       "      <td>1_veryLow</td>\n",
       "      <td>1_veryLow</td>\n",
       "      <td>1_veryLow</td>\n",
       "      <td>1_veryLow</td>\n",
       "    </tr>\n",
       "    <tr>\n",
       "      <th>153</th>\n",
       "      <td>TURKMENISTAN</td>\n",
       "      <td>1</td>\n",
       "      <td>2</td>\n",
       "      <td>1</td>\n",
       "      <td>46.5</td>\n",
       "      <td>1</td>\n",
       "      <td>25.82</td>\n",
       "      <td>1</td>\n",
       "      <td>1.72</td>\n",
       "      <td>1_veryLow</td>\n",
       "      <td>1_veryLow</td>\n",
       "      <td>1_veryLow</td>\n",
       "      <td>1_veryLow</td>\n",
       "    </tr>\n",
       "    <tr>\n",
       "      <th>154</th>\n",
       "      <td>ERITREA</td>\n",
       "      <td>1</td>\n",
       "      <td>3</td>\n",
       "      <td>1</td>\n",
       "      <td>39.5</td>\n",
       "      <td>1</td>\n",
       "      <td>27.86</td>\n",
       "      <td>1</td>\n",
       "      <td>2.15</td>\n",
       "      <td>1_veryLow</td>\n",
       "      <td>1_veryLow</td>\n",
       "      <td>1_veryLow</td>\n",
       "      <td>1_veryLow</td>\n",
       "    </tr>\n",
       "    <tr>\n",
       "      <th>155</th>\n",
       "      <td>CUBA</td>\n",
       "      <td>1</td>\n",
       "      <td>12</td>\n",
       "      <td>1</td>\n",
       "      <td>24.3</td>\n",
       "      <td>1</td>\n",
       "      <td>29.00</td>\n",
       "      <td>1</td>\n",
       "      <td>2.84</td>\n",
       "      <td>1_veryLow</td>\n",
       "      <td>1_veryLow</td>\n",
       "      <td>1_veryLow</td>\n",
       "      <td>1_veryLow</td>\n",
       "    </tr>\n",
       "    <tr>\n",
       "      <th>156</th>\n",
       "      <td>NORTH KOREA</td>\n",
       "      <td>1</td>\n",
       "      <td>3</td>\n",
       "      <td>1</td>\n",
       "      <td>2.9</td>\n",
       "      <td>1</td>\n",
       "      <td>21.72</td>\n",
       "      <td>1</td>\n",
       "      <td>1.08</td>\n",
       "      <td>1_veryLow</td>\n",
       "      <td>1_veryLow</td>\n",
       "      <td>1_veryLow</td>\n",
       "      <td>1_veryLow</td>\n",
       "    </tr>\n",
       "  </tbody>\n",
       "</table>\n",
       "<p>157 rows × 13 columns</p>\n",
       "</div>"
      ],
      "text/plain": [
       "          Country  FitW  FitW_score  IoEF  IoEF_score  PFI  PFI_score  DI  \\\n",
       "0          NORWAY     5         100     4        76.9    5      95.18   5   \n",
       "1         IRELAND     5          97     5        82.0    5      89.91   5   \n",
       "2          SWEDEN     5         100     4        77.5    5      88.15   5   \n",
       "3         FINLAND     5         100     4        77.1    5      87.94   5   \n",
       "4         DENMARK     5          97     4        77.6    5      89.48   5   \n",
       "..            ...   ...         ...   ...         ...  ...        ...  ..   \n",
       "152     VENEZUELA     1          15     1        25.8    1      36.99   1   \n",
       "153  TURKMENISTAN     1           2     1        46.5    1      25.82   1   \n",
       "154       ERITREA     1           3     1        39.5    1      27.86   1   \n",
       "155          CUBA     1          12     1        24.3    1      29.00   1   \n",
       "156   NORTH KOREA     1           3     1         2.9    1      21.72   1   \n",
       "\n",
       "     DI_score     FitW_or     IoEF_or      PFI_or       DI_or  \n",
       "0        9.81  5_veryGood      4_good  5_veryGood  5_veryGood  \n",
       "1        9.05  5_veryGood  5_veryGood  5_veryGood  5_veryGood  \n",
       "2        9.26  5_veryGood      4_good  5_veryGood  5_veryGood  \n",
       "3        9.20  5_veryGood      4_good  5_veryGood  5_veryGood  \n",
       "4        9.15  5_veryGood      4_good  5_veryGood  5_veryGood  \n",
       "..        ...         ...         ...         ...         ...  \n",
       "152      2.76   1_veryLow   1_veryLow   1_veryLow   1_veryLow  \n",
       "153      1.72   1_veryLow   1_veryLow   1_veryLow   1_veryLow  \n",
       "154      2.15   1_veryLow   1_veryLow   1_veryLow   1_veryLow  \n",
       "155      2.84   1_veryLow   1_veryLow   1_veryLow   1_veryLow  \n",
       "156      1.08   1_veryLow   1_veryLow   1_veryLow   1_veryLow  \n",
       "\n",
       "[157 rows x 13 columns]"
      ]
     },
     "execution_count": 1,
     "metadata": {},
     "output_type": "execute_result"
    }
   ],
   "source": [
    "import pandas as pd\n",
    "import os\n",
    "\n",
    "\n",
    "allFree=pd.read_pickle(\"https://github.com/PythonVersusR/OperationsFormatting/raw/main/DataFiles/allFree.pkl\")  \n",
    "allFree"
   ]
  },
  {
   "cell_type": "markdown",
   "id": "98e3f157",
   "metadata": {},
   "source": [
    "Now, let's bring this other one:"
   ]
  },
  {
   "cell_type": "code",
   "execution_count": 2,
   "id": "47ebc73b",
   "metadata": {},
   "outputs": [
    {
     "data": {
      "text/html": [
       "\n",
       "<iframe width=\"700\" height=\"300\" src=\"https://www.cia.gov/the-world-factbook/field/military-expenditures/country-comparison\" allowfullscreen></iframe>\n"
      ],
      "text/plain": [
       "<IPython.core.display.HTML object>"
      ]
     },
     "metadata": {},
     "output_type": "display_data"
    }
   ],
   "source": [
    "%%html\n",
    "\n",
    "<iframe width=\"700\" height=\"300\" src=\"https://www.cia.gov/the-world-factbook/field/military-expenditures/country-comparison\" allowfullscreen></iframe>\n"
   ]
  },
  {
   "cell_type": "code",
   "execution_count": 3,
   "id": "4f3620e5",
   "metadata": {},
   "outputs": [
    {
     "data": {
      "text/plain": [
       "1"
      ]
     },
     "execution_count": 3,
     "metadata": {},
     "output_type": "execute_result"
    }
   ],
   "source": [
    "linkCIA=\"https://www.cia.gov/the-world-factbook/field/military-expenditures/country-comparison\"\n",
    "mil=pd.read_html(linkCIA,flavor='bs4')\n",
    "# how many\n",
    "len(mil)"
   ]
  },
  {
   "cell_type": "code",
   "execution_count": 4,
   "id": "831146bb",
   "metadata": {
    "scrolled": true
   },
   "outputs": [
    {
     "data": {
      "text/html": [
       "<div>\n",
       "<style scoped>\n",
       "    .dataframe tbody tr th:only-of-type {\n",
       "        vertical-align: middle;\n",
       "    }\n",
       "\n",
       "    .dataframe tbody tr th {\n",
       "        vertical-align: top;\n",
       "    }\n",
       "\n",
       "    .dataframe thead th {\n",
       "        text-align: right;\n",
       "    }\n",
       "</style>\n",
       "<table border=\"1\" class=\"dataframe\">\n",
       "  <thead>\n",
       "    <tr style=\"text-align: right;\">\n",
       "      <th></th>\n",
       "      <th>Rank</th>\n",
       "      <th>Country</th>\n",
       "      <th>% of GDP</th>\n",
       "      <th>Date of Information</th>\n",
       "    </tr>\n",
       "  </thead>\n",
       "  <tbody>\n",
       "    <tr>\n",
       "      <th>0</th>\n",
       "      <td>1</td>\n",
       "      <td>Eritrea</td>\n",
       "      <td>10.0</td>\n",
       "      <td>2019 est.</td>\n",
       "    </tr>\n",
       "    <tr>\n",
       "      <th>1</th>\n",
       "      <td>2</td>\n",
       "      <td>Algeria</td>\n",
       "      <td>9.0</td>\n",
       "      <td>2023 est.</td>\n",
       "    </tr>\n",
       "    <tr>\n",
       "      <th>2</th>\n",
       "      <td>3</td>\n",
       "      <td>Syria</td>\n",
       "      <td>6.5</td>\n",
       "      <td>2019 est.</td>\n",
       "    </tr>\n",
       "    <tr>\n",
       "      <th>3</th>\n",
       "      <td>4</td>\n",
       "      <td>Saudi Arabia</td>\n",
       "      <td>6.0</td>\n",
       "      <td>2022 est.</td>\n",
       "    </tr>\n",
       "    <tr>\n",
       "      <th>4</th>\n",
       "      <td>5</td>\n",
       "      <td>Somalia</td>\n",
       "      <td>6.0</td>\n",
       "      <td>2021 est.</td>\n",
       "    </tr>\n",
       "    <tr>\n",
       "      <th>...</th>\n",
       "      <td>...</td>\n",
       "      <td>...</td>\n",
       "      <td>...</td>\n",
       "      <td>...</td>\n",
       "    </tr>\n",
       "    <tr>\n",
       "      <th>161</th>\n",
       "      <td>162</td>\n",
       "      <td>Ghana</td>\n",
       "      <td>0.4</td>\n",
       "      <td>2022 est.</td>\n",
       "    </tr>\n",
       "    <tr>\n",
       "      <th>162</th>\n",
       "      <td>163</td>\n",
       "      <td>Moldova</td>\n",
       "      <td>0.4</td>\n",
       "      <td>2022 est.</td>\n",
       "    </tr>\n",
       "    <tr>\n",
       "      <th>163</th>\n",
       "      <td>164</td>\n",
       "      <td>Papua New Guinea</td>\n",
       "      <td>0.3</td>\n",
       "      <td>2022 est.</td>\n",
       "    </tr>\n",
       "    <tr>\n",
       "      <th>164</th>\n",
       "      <td>165</td>\n",
       "      <td>Ireland</td>\n",
       "      <td>0.3</td>\n",
       "      <td>2022 est.</td>\n",
       "    </tr>\n",
       "    <tr>\n",
       "      <th>165</th>\n",
       "      <td>166</td>\n",
       "      <td>Laos</td>\n",
       "      <td>0.2</td>\n",
       "      <td>2019 est.</td>\n",
       "    </tr>\n",
       "  </tbody>\n",
       "</table>\n",
       "<p>166 rows × 4 columns</p>\n",
       "</div>"
      ],
      "text/plain": [
       "     Rank           Country  % of GDP Date of Information\n",
       "0       1           Eritrea      10.0           2019 est.\n",
       "1       2           Algeria       9.0           2023 est.\n",
       "2       3             Syria       6.5           2019 est.\n",
       "3       4      Saudi Arabia       6.0           2022 est.\n",
       "4       5           Somalia       6.0           2021 est.\n",
       "..    ...               ...       ...                 ...\n",
       "161   162             Ghana       0.4           2022 est.\n",
       "162   163           Moldova       0.4           2022 est.\n",
       "163   164  Papua New Guinea       0.3           2022 est.\n",
       "164   165           Ireland       0.3           2022 est.\n",
       "165   166              Laos       0.2           2019 est.\n",
       "\n",
       "[166 rows x 4 columns]"
      ]
     },
     "execution_count": 4,
     "metadata": {},
     "output_type": "execute_result"
    }
   ],
   "source": [
    "# the only one\n",
    "mil[0]"
   ]
  },
  {
   "cell_type": "markdown",
   "id": "cbf7f3da",
   "metadata": {},
   "source": [
    "Let's check format:"
   ]
  },
  {
   "cell_type": "code",
   "execution_count": 5,
   "id": "a0d975cd",
   "metadata": {},
   "outputs": [
    {
     "name": "stdout",
     "output_type": "stream",
     "text": [
      "<class 'pandas.core.frame.DataFrame'>\n",
      "RangeIndex: 166 entries, 0 to 165\n",
      "Data columns (total 4 columns):\n",
      " #   Column               Non-Null Count  Dtype  \n",
      "---  ------               --------------  -----  \n",
      " 0   Rank                 166 non-null    int64  \n",
      " 1   Country              166 non-null    object \n",
      " 2   % of GDP             166 non-null    float64\n",
      " 3   Date of Information  166 non-null    object \n",
      "dtypes: float64(1), int64(1), object(2)\n",
      "memory usage: 5.3+ KB\n"
     ]
    }
   ],
   "source": [
    "mil[0].info()"
   ]
  },
  {
   "cell_type": "markdown",
   "id": "6b76b02e",
   "metadata": {},
   "source": [
    "Let's keep the columns we need from the data frame:"
   ]
  },
  {
   "cell_type": "code",
   "execution_count": 6,
   "id": "bd1a13a5",
   "metadata": {},
   "outputs": [
    {
     "data": {
      "text/html": [
       "<div>\n",
       "<style scoped>\n",
       "    .dataframe tbody tr th:only-of-type {\n",
       "        vertical-align: middle;\n",
       "    }\n",
       "\n",
       "    .dataframe tbody tr th {\n",
       "        vertical-align: top;\n",
       "    }\n",
       "\n",
       "    .dataframe thead th {\n",
       "        text-align: right;\n",
       "    }\n",
       "</style>\n",
       "<table border=\"1\" class=\"dataframe\">\n",
       "  <thead>\n",
       "    <tr style=\"text-align: right;\">\n",
       "      <th></th>\n",
       "      <th>Country</th>\n",
       "      <th>% of GDP</th>\n",
       "    </tr>\n",
       "  </thead>\n",
       "  <tbody>\n",
       "    <tr>\n",
       "      <th>0</th>\n",
       "      <td>Eritrea</td>\n",
       "      <td>10.0</td>\n",
       "    </tr>\n",
       "    <tr>\n",
       "      <th>1</th>\n",
       "      <td>Algeria</td>\n",
       "      <td>9.0</td>\n",
       "    </tr>\n",
       "    <tr>\n",
       "      <th>2</th>\n",
       "      <td>Syria</td>\n",
       "      <td>6.5</td>\n",
       "    </tr>\n",
       "    <tr>\n",
       "      <th>3</th>\n",
       "      <td>Saudi Arabia</td>\n",
       "      <td>6.0</td>\n",
       "    </tr>\n",
       "    <tr>\n",
       "      <th>4</th>\n",
       "      <td>Somalia</td>\n",
       "      <td>6.0</td>\n",
       "    </tr>\n",
       "  </tbody>\n",
       "</table>\n",
       "</div>"
      ],
      "text/plain": [
       "        Country  % of GDP\n",
       "0       Eritrea      10.0\n",
       "1       Algeria       9.0\n",
       "2         Syria       6.5\n",
       "3  Saudi Arabia       6.0\n",
       "4       Somalia       6.0"
      ]
     },
     "execution_count": 6,
     "metadata": {},
     "output_type": "execute_result"
    }
   ],
   "source": [
    "mil[0]=mil[0].iloc[:,[1,2]]\n",
    "mil[0].head()"
   ]
  },
  {
   "cell_type": "markdown",
   "id": "6d50990f",
   "metadata": {},
   "source": [
    "Let's create a new data frame, while renaming the second column with a simpler name:"
   ]
  },
  {
   "cell_type": "code",
   "execution_count": 7,
   "id": "8c0a67af",
   "metadata": {},
   "outputs": [
    {
     "data": {
      "text/html": [
       "<div>\n",
       "<style scoped>\n",
       "    .dataframe tbody tr th:only-of-type {\n",
       "        vertical-align: middle;\n",
       "    }\n",
       "\n",
       "    .dataframe tbody tr th {\n",
       "        vertical-align: top;\n",
       "    }\n",
       "\n",
       "    .dataframe thead th {\n",
       "        text-align: right;\n",
       "    }\n",
       "</style>\n",
       "<table border=\"1\" class=\"dataframe\">\n",
       "  <thead>\n",
       "    <tr style=\"text-align: right;\">\n",
       "      <th></th>\n",
       "      <th>Country</th>\n",
       "      <th>mili_pctGDP</th>\n",
       "    </tr>\n",
       "  </thead>\n",
       "  <tbody>\n",
       "    <tr>\n",
       "      <th>0</th>\n",
       "      <td>Eritrea</td>\n",
       "      <td>10.0</td>\n",
       "    </tr>\n",
       "    <tr>\n",
       "      <th>1</th>\n",
       "      <td>Algeria</td>\n",
       "      <td>9.0</td>\n",
       "    </tr>\n",
       "    <tr>\n",
       "      <th>2</th>\n",
       "      <td>Syria</td>\n",
       "      <td>6.5</td>\n",
       "    </tr>\n",
       "    <tr>\n",
       "      <th>3</th>\n",
       "      <td>Saudi Arabia</td>\n",
       "      <td>6.0</td>\n",
       "    </tr>\n",
       "    <tr>\n",
       "      <th>4</th>\n",
       "      <td>Somalia</td>\n",
       "      <td>6.0</td>\n",
       "    </tr>\n",
       "  </tbody>\n",
       "</table>\n",
       "</div>"
      ],
      "text/plain": [
       "        Country  mili_pctGDP\n",
       "0       Eritrea         10.0\n",
       "1       Algeria          9.0\n",
       "2         Syria          6.5\n",
       "3  Saudi Arabia          6.0\n",
       "4       Somalia          6.0"
      ]
     },
     "execution_count": 7,
     "metadata": {},
     "output_type": "execute_result"
    }
   ],
   "source": [
    "mili=mil[0].rename(columns={\"% of GDP\": \"mili_pctGDP\"})\n",
    "mili.head()"
   ]
  },
  {
   "cell_type": "markdown",
   "id": "3c92f5bc",
   "metadata": {},
   "source": [
    "## Deciding keys\n",
    "\n",
    "Obviously, _Country_:\n"
   ]
  },
  {
   "cell_type": "code",
   "execution_count": 8,
   "id": "d344e25b-fa73-4ec8-89c6-d56b19fac297",
   "metadata": {},
   "outputs": [
    {
     "data": {
      "text/plain": [
       "(Index(['Country', 'mili_pctGDP'], dtype='object'),\n",
       " Index(['Country', 'FitW', 'FitW_score', 'IoEF', 'IoEF_score', 'PFI',\n",
       "        'PFI_score', 'DI', 'DI_score', 'FitW_or', 'IoEF_or', 'PFI_or', 'DI_or'],\n",
       "       dtype='object'))"
      ]
     },
     "execution_count": 8,
     "metadata": {},
     "output_type": "execute_result"
    }
   ],
   "source": [
    "mili.columns, allFree.columns"
   ]
  },
  {
   "cell_type": "code",
   "execution_count": 9,
   "id": "0d8b1f70-5f95-48db-afc7-060296b4d266",
   "metadata": {},
   "outputs": [
    {
     "data": {
      "text/plain": [
       "(59        ALBANIA\n",
       " 126       ALGERIA\n",
       " 119        ANGOLA\n",
       " 45      ARGENTINA\n",
       " 61        ARMENIA\n",
       "           ...    \n",
       " 133    UZBEKISTAN\n",
       " 152     VENEZUELA\n",
       " 139       VIETNAM\n",
       " 88         ZAMBIA\n",
       " 131      ZIMBABWE\n",
       " Name: Country, Length: 157, dtype: object,\n",
       " 24     Afghanistan\n",
       " 67         Albania\n",
       " 1          Algeria\n",
       " 101         Angola\n",
       " 154      Argentina\n",
       "           ...     \n",
       " 33      Uzbekistan\n",
       " 6        Venezuela\n",
       " 49         Vietnam\n",
       " 111         Zambia\n",
       " 158       Zimbabwe\n",
       " Name: Country, Length: 166, dtype: object)"
      ]
     },
     "execution_count": 9,
     "metadata": {},
     "output_type": "execute_result"
    }
   ],
   "source": [
    "#explore\n",
    "allFree.Country.sort_values(),mili.Country.sort_values()"
   ]
  },
  {
   "cell_type": "markdown",
   "id": "beda3e83-bfcd-4d78-b038-a16d0a1d2c68",
   "metadata": {},
   "source": [
    "We should _normalize_ the **key** columns:"
   ]
  },
  {
   "cell_type": "code",
   "execution_count": 10,
   "id": "c09bc4d8",
   "metadata": {},
   "outputs": [],
   "source": [
    "mili['Country']=mili.Country.str.upper()"
   ]
  },
  {
   "cell_type": "markdown",
   "id": "ea3b0179-c967-443e-833f-2d61fd22bee6",
   "metadata": {},
   "source": [
    "## Basic merge\n",
    "\n",
    "The basic merge works like this:"
   ]
  },
  {
   "cell_type": "code",
   "execution_count": 11,
   "id": "c5f7ede2-078f-444c-bf0e-0abdae6a9d7e",
   "metadata": {},
   "outputs": [
    {
     "data": {
      "text/plain": [
       "(166, 157)"
      ]
     },
     "execution_count": 11,
     "metadata": {},
     "output_type": "execute_result"
    }
   ],
   "source": [
    "# Which country has more rows?\n",
    "mili.shape[0],allFree.shape[0]"
   ]
  },
  {
   "cell_type": "markdown",
   "id": "2dcaae65-6db8-4c4f-8561-f246a1efb726",
   "metadata": {},
   "source": [
    "When row counts differ, you can expect the merge will give at most the lowest amount of rows between those two. Let's see:"
   ]
  },
  {
   "cell_type": "code",
   "execution_count": 12,
   "id": "f14a3bec-9533-458a-8327-72ec5d9be0c3",
   "metadata": {},
   "outputs": [
    {
     "data": {
      "text/plain": [
       "144"
      ]
     },
     "execution_count": 12,
     "metadata": {},
     "output_type": "execute_result"
    }
   ],
   "source": [
    "mili.merge(allFree,left_on='Country',right_on='Country').shape[0]"
   ]
  },
  {
   "cell_type": "markdown",
   "id": "d4a69c14",
   "metadata": {},
   "source": [
    "## Fuzzy matching\n",
    "\n",
    "Currently, that is the count of rows in the merge. Let's explore the unmatched keys:"
   ]
  },
  {
   "cell_type": "code",
   "execution_count": 13,
   "id": "e696df55",
   "metadata": {},
   "outputs": [
    {
     "data": {
      "text/plain": [
       "['AFGHANISTAN',\n",
       " 'BAHAMAS, THE',\n",
       " 'BARBADOS',\n",
       " 'BELIZE',\n",
       " 'BOSNIA AND HERZEGOVINA',\n",
       " 'BRUNEI',\n",
       " 'CABO VERDE',\n",
       " 'CONGO, DEMOCRATIC REPUBLIC OF THE',\n",
       " 'CONGO, REPUBLIC OF THE',\n",
       " \"COTE D'IVOIRE\",\n",
       " 'CZECHIA',\n",
       " 'GAMBIA, THE',\n",
       " 'IRAQ',\n",
       " 'KOREA, SOUTH',\n",
       " 'KOSOVO',\n",
       " 'SEYCHELLES',\n",
       " 'SOMALIA',\n",
       " 'SOUTH SUDAN',\n",
       " 'SYRIA',\n",
       " 'TONGA',\n",
       " 'TURKEY (TURKIYE)',\n",
       " 'UKRAINE']"
      ]
     },
     "execution_count": 13,
     "metadata": {},
     "output_type": "execute_result"
    }
   ],
   "source": [
    "InMiliNotInFree=list(set(mili.Country)-set(allFree.Country))\n",
    "sorted(InMiliNotInFree)"
   ]
  },
  {
   "cell_type": "code",
   "execution_count": null,
   "id": "ca11a9dd",
   "metadata": {},
   "outputs": [],
   "source": [
    "InFreeUnmatched=list(set(allFree.Country)-set(mili.Country))\n",
    "sorted(InFreeUnmatched)"
   ]
  },
  {
   "cell_type": "markdown",
   "id": "adac97cb-cce2-40ef-a9a8-68668f34244b",
   "metadata": {},
   "source": [
    "Let's try to match strings that are NOT equally written. You need to previously install:\n",
    "* thefuzz (use _pip install thefuzz_)\n",
    "* python-Levenshtein  (use _pip python-Levenshtein_)"
   ]
  },
  {
   "cell_type": "code",
   "execution_count": null,
   "id": "7b0f210e",
   "metadata": {},
   "outputs": [],
   "source": [
    "from thefuzz import process\n",
    "\n",
    "[(country, process.extractOne(country,InMiliNotInFree )) for country in sorted(InFreeUnmatched)]"
   ]
  },
  {
   "cell_type": "markdown",
   "id": "1543bd50-f1ba-4499-9c08-03fba5d03bf2",
   "metadata": {},
   "source": [
    "This exploration suggest we make changes manually first:"
   ]
  },
  {
   "cell_type": "code",
   "execution_count": null,
   "id": "9a9fc5fb-b015-47ea-a854-8971ef0cce59",
   "metadata": {},
   "outputs": [],
   "source": [
    "#allFree=allFree[allFree.Country != \"NORTH KOREA\"] # bye no\n",
    "manualFree={'REPUBLIC OF THE CONGO':'CONGO, REPUBLIC OF THE','CZECH REPUBLIC':'CZECHIA'}\n",
    "allFree.Country.replace(manualFree,inplace=True)\n",
    "\n",
    "#\n",
    "InMiliNotInFree=list(set(mili.Country)-set(allFree.Country))\n",
    "InFreeUnmatched=list(set(allFree.Country)-set(mili.Country))\n",
    "\n",
    "# \n",
    "[(country, process.extractOne(country,InMiliNotInFree )) for country in sorted(InFreeUnmatched)]"
   ]
  },
  {
   "cell_type": "markdown",
   "id": "b0feece1-b448-47a4-bbcc-2bb50938eb54",
   "metadata": {},
   "source": [
    "Notice:"
   ]
  },
  {
   "cell_type": "code",
   "execution_count": null,
   "id": "f838f3ab-2ec3-4bee-8762-801a51810123",
   "metadata": {},
   "outputs": [],
   "source": [
    "[(country, process.extractOne(country,InMiliNotInFree )) for country in sorted(InFreeUnmatched) \n",
    " if process.extractOne(country,InMiliNotInFree)[1]>=90]"
   ]
  },
  {
   "cell_type": "code",
   "execution_count": null,
   "id": "b1580e4d-ad53-4c31-8123-4e4bc5337a6d",
   "metadata": {},
   "outputs": [],
   "source": [
    "# then:\n",
    "fuzzyFree={country: process.extractOne(country,InMiliNotInFree )[0] for country in sorted(InFreeUnmatched) \n",
    " if process.extractOne(country,InMiliNotInFree)[1]>=90}\n",
    "fuzzyFree"
   ]
  },
  {
   "cell_type": "markdown",
   "id": "33e13fd7-7b11-4f05-8472-f0fb689e234c",
   "metadata": {},
   "source": [
    "Apparently, that was all:"
   ]
  },
  {
   "cell_type": "code",
   "execution_count": null,
   "id": "6722e06d-4948-4d47-9664-d0ced6d15bec",
   "metadata": {},
   "outputs": [],
   "source": [
    "allFree.Country.replace(fuzzyFree,inplace=True)\n",
    "\n",
    "#\n",
    "InMiliNotInFree=list(set(mili.Country)-set(allFree.Country))\n",
    "InFreeUnmatched=list(set(allFree.Country)-set(mili.Country))\n",
    "\n",
    "# \n",
    "[(country, process.extractOne(country,InMiliNotInFree )) for country in sorted(InFreeUnmatched)]"
   ]
  },
  {
   "cell_type": "markdown",
   "id": "69a14d43-4c01-40f4-9040-306d885b94cd",
   "metadata": {},
   "source": [
    "You can also try:"
   ]
  },
  {
   "cell_type": "code",
   "execution_count": null,
   "id": "4e8127ad-7181-4dda-a5dd-13a18ff54555",
   "metadata": {},
   "outputs": [],
   "source": [
    "#opposite search\n",
    "[(country, process.extractOne(country, InFreeUnmatched)) for country in sorted(InMiliNotInFree)]"
   ]
  },
  {
   "cell_type": "markdown",
   "id": "87e02d84",
   "metadata": {},
   "source": [
    "We reached our best situation, then:"
   ]
  },
  {
   "cell_type": "code",
   "execution_count": null,
   "id": "13344209",
   "metadata": {},
   "outputs": [],
   "source": [
    "# in case you have different names in the matching columns:\n",
    "freemili=allFree.merge(mili,left_on='Country', right_on='Country')\n",
    "freemili"
   ]
  },
  {
   "cell_type": "markdown",
   "id": "d16bf289",
   "metadata": {},
   "source": [
    "We can save this for R and Python :"
   ]
  },
  {
   "cell_type": "code",
   "execution_count": null,
   "id": "07bdcf8d",
   "metadata": {},
   "outputs": [],
   "source": [
    "# for Python\n",
    "\n",
    "import os\n",
    "freemili.to_pickle(os.path.join(\"FilesToMerge\",\"FreeAndMili.pkl\"))"
   ]
  },
  {
   "cell_type": "code",
   "execution_count": null,
   "id": "6c3bd1a6",
   "metadata": {},
   "outputs": [],
   "source": [
    "# for R\n",
    "import os\n",
    "\n",
    "os.environ['R_HOME'] = '/Library/Frameworks/R.framework/Resources'\n",
    "\n",
    "from rpy2.robjects import pandas2ri\n",
    "pandas2ri.activate()\n",
    "\n",
    "from rpy2.robjects.packages import importr\n",
    "\n",
    "base = importr('base')\n",
    "base.saveRDS(freemili,file=os.path.join('FilesToMerge','FreeAndMili.RDS'))"
   ]
  },
  {
   "cell_type": "code",
   "execution_count": null,
   "id": "25bfe863-39aa-437e-9249-dd6c9f3e4e26",
   "metadata": {},
   "outputs": [],
   "source": []
  }
 ],
 "metadata": {
  "kernelspec": {
   "display_name": "Python 3 (ipykernel)",
   "language": "python",
   "name": "python3"
  },
  "language_info": {
   "codemirror_mode": {
    "name": "ipython",
    "version": 3
   },
   "file_extension": ".py",
   "mimetype": "text/x-python",
   "name": "python",
   "nbconvert_exporter": "python",
   "pygments_lexer": "ipython3",
   "version": "3.12.0"
  }
 },
 "nbformat": 4,
 "nbformat_minor": 5
}
